{
 "cells": [
  {
   "cell_type": "code",
   "execution_count": 48,
   "metadata": {},
   "outputs": [],
   "source": [
    "import pandas as pd"
   ]
  },
  {
   "cell_type": "markdown",
   "metadata": {},
   "source": [
    "### Importa dados do [RefSeq](https://www.ncbi.nlm.nih.gov/genome/browse#!/prokaryotes/)"
   ]
  },
  {
   "cell_type": "code",
   "execution_count": 49,
   "metadata": {},
   "outputs": [],
   "source": [
    "def carregar_metadados(path:str):\n",
    "    \"\"\"Carrega a tabela com os metadados de todas as bactérias presentes no NCBI-RefSeq\n",
    "    Parametros:\n",
    "    path -> diretórion onde a tabela de metadados está\n",
    "    -----\n",
    "    Returno:\n",
    "    Um objeto do tipo pandas.DataFrame com as colunas o nome das colunas editados\n",
    "    \"\"\"\n",
    "    table = pd.read_excel(path)\n",
    "    table.drop([\"FTP\",\"RefSeq\",\"FTP.1\",\"rRNA\"], axis = 1, inplace = True)\n",
    "    table.rename(inplace = True, columns = {\n",
    "    \"#Organism\":\"Especie\",\n",
    "    \"Name\":\"Taxon\",\n",
    "    \"Organism\":\"FTP_genbank\",\n",
    "    \"Groups\":\"FTP_refseq\",\n",
    "    \"GenBank\":\"rRNA\"\n",
    "    })\n",
    "    table[\"Genero\"] = table.Especie.apply(lambda x: x.split(\" \")[0]) \n",
    "    return table"
   ]
  },
  {
   "cell_type": "code",
   "execution_count": 50,
   "metadata": {},
   "outputs": [],
   "source": [
    "refseq_metadados = carregar_metadados(\"prokaryotes.xlsx\")"
   ]
  },
  {
   "cell_type": "code",
   "execution_count": 51,
   "metadata": {},
   "outputs": [
    {
     "data": {
      "text/plain": [
       "409473"
      ]
     },
     "execution_count": 51,
     "metadata": {},
     "output_type": "execute_result"
    }
   ],
   "source": [
    "len(refseq_metadados)"
   ]
  },
  {
   "cell_type": "code",
   "execution_count": 52,
   "metadata": {},
   "outputs": [],
   "source": [
    "refseq_metadados.dropna(inplace = True)"
   ]
  },
  {
   "cell_type": "code",
   "execution_count": 53,
   "metadata": {},
   "outputs": [],
   "source": [
    "refseq_metadados = refseq_metadados[refseq_metadados.rRNA > 0]"
   ]
  },
  {
   "cell_type": "code",
   "execution_count": 54,
   "metadata": {},
   "outputs": [
    {
     "data": {
      "text/plain": [
       "252823"
      ]
     },
     "execution_count": 54,
     "metadata": {},
     "output_type": "execute_result"
    }
   ],
   "source": [
    "len(refseq_metadados)"
   ]
  },
  {
   "cell_type": "code",
   "execution_count": 55,
   "metadata": {},
   "outputs": [
    {
     "data": {
      "text/html": [
       "<div>\n",
       "<style scoped>\n",
       "    .dataframe tbody tr th:only-of-type {\n",
       "        vertical-align: middle;\n",
       "    }\n",
       "\n",
       "    .dataframe tbody tr th {\n",
       "        vertical-align: top;\n",
       "    }\n",
       "\n",
       "    .dataframe thead th {\n",
       "        text-align: right;\n",
       "    }\n",
       "</style>\n",
       "<table border=\"1\" class=\"dataframe\">\n",
       "  <thead>\n",
       "    <tr style=\"text-align: right;\">\n",
       "      <th></th>\n",
       "      <th>Especie</th>\n",
       "      <th>Taxon</th>\n",
       "      <th>FTP_genbank</th>\n",
       "      <th>FTP_refseq</th>\n",
       "      <th>rRNA</th>\n",
       "      <th>Genero</th>\n",
       "    </tr>\n",
       "  </thead>\n",
       "  <tbody>\n",
       "    <tr>\n",
       "      <th>0</th>\n",
       "      <td>Campylobacter jejuni subsp. jejuni NCTC 11168 ...</td>\n",
       "      <td>Bacteria;Proteobacteria;delta/epsilon subdivis...</td>\n",
       "      <td>ftp://ftp.ncbi.nlm.nih.gov/genomes/all/GCA/000...</td>\n",
       "      <td>ftp://ftp.ncbi.nlm.nih.gov/genomes/all/GCF/000...</td>\n",
       "      <td>9</td>\n",
       "      <td>Campylobacter</td>\n",
       "    </tr>\n",
       "    <tr>\n",
       "      <th>1</th>\n",
       "      <td>Pseudomonas fluorescens</td>\n",
       "      <td>Bacteria;Proteobacteria;Gammaproteobacteria</td>\n",
       "      <td>ftp://ftp.ncbi.nlm.nih.gov/genomes/all/GCA/900...</td>\n",
       "      <td>ftp://ftp.ncbi.nlm.nih.gov/genomes/all/GCF/900...</td>\n",
       "      <td>19</td>\n",
       "      <td>Pseudomonas</td>\n",
       "    </tr>\n",
       "    <tr>\n",
       "      <th>2</th>\n",
       "      <td>Xanthomonas campestris pv. raphani</td>\n",
       "      <td>Bacteria;Proteobacteria;Gammaproteobacteria</td>\n",
       "      <td>ftp://ftp.ncbi.nlm.nih.gov/genomes/all/GCA/013...</td>\n",
       "      <td>ftp://ftp.ncbi.nlm.nih.gov/genomes/all/GCF/013...</td>\n",
       "      <td>6</td>\n",
       "      <td>Xanthomonas</td>\n",
       "    </tr>\n",
       "    <tr>\n",
       "      <th>3</th>\n",
       "      <td>Salmonella enterica subsp. enterica serovar Ty...</td>\n",
       "      <td>Bacteria;Proteobacteria;Gammaproteobacteria</td>\n",
       "      <td>ftp://ftp.ncbi.nlm.nih.gov/genomes/all/GCA/000...</td>\n",
       "      <td>ftp://ftp.ncbi.nlm.nih.gov/genomes/all/GCF/000...</td>\n",
       "      <td>22</td>\n",
       "      <td>Salmonella</td>\n",
       "    </tr>\n",
       "    <tr>\n",
       "      <th>4</th>\n",
       "      <td>Yersinia pestis A1122</td>\n",
       "      <td>Bacteria;Proteobacteria;Gammaproteobacteria</td>\n",
       "      <td>ftp://ftp.ncbi.nlm.nih.gov/genomes/all/GCA/000...</td>\n",
       "      <td>ftp://ftp.ncbi.nlm.nih.gov/genomes/all/GCF/000...</td>\n",
       "      <td>18</td>\n",
       "      <td>Yersinia</td>\n",
       "    </tr>\n",
       "  </tbody>\n",
       "</table>\n",
       "</div>"
      ],
      "text/plain": [
       "                                             Especie  \\\n",
       "0  Campylobacter jejuni subsp. jejuni NCTC 11168 ...   \n",
       "1                            Pseudomonas fluorescens   \n",
       "2                 Xanthomonas campestris pv. raphani   \n",
       "3  Salmonella enterica subsp. enterica serovar Ty...   \n",
       "4                              Yersinia pestis A1122   \n",
       "\n",
       "                                               Taxon  \\\n",
       "0  Bacteria;Proteobacteria;delta/epsilon subdivis...   \n",
       "1        Bacteria;Proteobacteria;Gammaproteobacteria   \n",
       "2        Bacteria;Proteobacteria;Gammaproteobacteria   \n",
       "3        Bacteria;Proteobacteria;Gammaproteobacteria   \n",
       "4        Bacteria;Proteobacteria;Gammaproteobacteria   \n",
       "\n",
       "                                         FTP_genbank  \\\n",
       "0  ftp://ftp.ncbi.nlm.nih.gov/genomes/all/GCA/000...   \n",
       "1  ftp://ftp.ncbi.nlm.nih.gov/genomes/all/GCA/900...   \n",
       "2  ftp://ftp.ncbi.nlm.nih.gov/genomes/all/GCA/013...   \n",
       "3  ftp://ftp.ncbi.nlm.nih.gov/genomes/all/GCA/000...   \n",
       "4  ftp://ftp.ncbi.nlm.nih.gov/genomes/all/GCA/000...   \n",
       "\n",
       "                                          FTP_refseq  rRNA         Genero  \n",
       "0  ftp://ftp.ncbi.nlm.nih.gov/genomes/all/GCF/000...     9  Campylobacter  \n",
       "1  ftp://ftp.ncbi.nlm.nih.gov/genomes/all/GCF/900...    19    Pseudomonas  \n",
       "2  ftp://ftp.ncbi.nlm.nih.gov/genomes/all/GCF/013...     6    Xanthomonas  \n",
       "3  ftp://ftp.ncbi.nlm.nih.gov/genomes/all/GCF/000...    22     Salmonella  \n",
       "4  ftp://ftp.ncbi.nlm.nih.gov/genomes/all/GCF/000...    18       Yersinia  "
      ]
     },
     "execution_count": 55,
     "metadata": {},
     "output_type": "execute_result"
    }
   ],
   "source": [
    "refseq_metadados.head()"
   ]
  },
  {
   "cell_type": "code",
   "execution_count": 56,
   "metadata": {},
   "outputs": [],
   "source": [
    "import os\n",
    "sufix = \"_rna_from_genomic.fna.gz\"\n",
    "for info in refseq_metadados[:100].itertuples():\n",
    "    genome_id = info.FTP_refseq.split(\"/\")[-1]\n",
    "    os.system(f\"wget {info.FTP_refseq + '/' + genome_id + sufix} -O {genome_id}-{info.Genero}.fasta.gz\")"
   ]
  },
  {
   "cell_type": "code",
   "execution_count": 57,
   "metadata": {},
   "outputs": [
    {
     "data": {
      "text/plain": [
       "0"
      ]
     },
     "execution_count": 57,
     "metadata": {},
     "output_type": "execute_result"
    }
   ],
   "source": [
    "os.system(f\"mv *.gz data\")"
   ]
  },
  {
   "cell_type": "code",
   "execution_count": 58,
   "metadata": {},
   "outputs": [
    {
     "data": {
      "text/plain": [
       "0"
      ]
     },
     "execution_count": 58,
     "metadata": {},
     "output_type": "execute_result"
    }
   ],
   "source": [
    "os.system(\"gunzip data/*.gz\")"
   ]
  },
  {
   "cell_type": "code",
   "execution_count": 59,
   "metadata": {},
   "outputs": [],
   "source": [
    "import glob"
   ]
  },
  {
   "cell_type": "code",
   "execution_count": 60,
   "metadata": {},
   "outputs": [],
   "source": [
    "rnas = glob.glob(\"data/*.fasta\")"
   ]
  },
  {
   "cell_type": "code",
   "execution_count": 61,
   "metadata": {},
   "outputs": [
    {
     "data": {
      "text/plain": [
       "['data/GCF_000161615.1_ASM16161v1-Bacillus.fasta',\n",
       " 'data/GCF_016694755.2_ASM1669475v2-Pseudomonas.fasta',\n",
       " 'data/GCF_000007245.1_ASM724v1-Xylella.fasta',\n",
       " 'data/GCF_000026745.1_ASM2674v1-Streptococcus.fasta',\n",
       " 'data/GCF_903886475.1_Streptococcus_thermophilus_CIRM_65-Streptococcus.fasta',\n",
       " 'data/GCF_020463755.1_ASM2046375v1-Lactococcus.fasta',\n",
       " 'data/GCF_002076835.1_ASM207683v1-Streptococcus.fasta',\n",
       " 'data/GCF_900215245.1_IMG-taxon_2617270901_annotated_assembly-Pseudomonas.fasta',\n",
       " 'data/GCF_013388375.1_ASM1338837v1-Xanthomonas.fasta',\n",
       " 'data/GCF_013374815.1_ASM1337481v1-Shigella.fasta',\n",
       " 'data/GCF_002162215.1_ASM216221v1-Histophilus.fasta',\n",
       " 'data/GCF_000756125.1_ASM75612v1-Burkholderia.fasta',\n",
       " 'data/GCF_022984195.1_ASM2298419v1-Synechococcus.fasta',\n",
       " 'data/GCF_006094375.1_ASM609437v1-Staphylococcus.fasta',\n",
       " 'data/GCF_001932995.2_ASM193299v2-Shigella.fasta',\n",
       " 'data/GCF_003955815.1_ASM395581v1-Francisella.fasta',\n",
       " 'data/GCF_000005845.2_ASM584v2-Escherichia.fasta',\n",
       " 'data/GCF_013177355.1_ASM1317735v1-Xanthomonas.fasta',\n",
       " 'data/GCF_001888925.1_ASM188892v1-Lactobacillus.fasta',\n",
       " 'data/GCF_000007925.1_ASM792v1-Prochlorococcus.fasta',\n",
       " 'data/GCF_000054005.1_ASM5400v1-Brucella.fasta',\n",
       " 'data/GCF_000010085.1_ASM1008v1-Sodalis.fasta',\n",
       " 'data/GCF_003020795.1_ASM302079v1-Bacillus.fasta',\n",
       " 'data/GCF_902858935.1_Ssal_L25-Streptococcus.fasta',\n",
       " 'data/GCF_020616615.1_ASM2061661v1-Mycobacterium.fasta',\n",
       " 'data/GCF_000196035.1_ASM19603v1-Listeria.fasta',\n",
       " 'data/GCF_000021925.1_ASM2192v1-Desulfitobacterium.fasta',\n",
       " 'data/GCF_000018945.1_ASM1894v1-Thermotoga.fasta',\n",
       " 'data/GCF_000829055.1_ASM82905v1-Lacticaseibacillus.fasta',\n",
       " 'data/GCF_000015125.1_ASM1512v1-Chlorobium.fasta',\n",
       " 'data/GCF_013460375.1_ASM1346037v1-Ehrlichia.fasta',\n",
       " 'data/GCF_900638445.1_57675_E01-Actinobacillus.fasta',\n",
       " 'data/GCF_002204915.1_ASM220491v1-Vibrio.fasta',\n",
       " 'data/GCF_001718895.1_ASM171889v1-Burkholderia.fasta',\n",
       " 'data/GCF_008330805.1_ASM833080v1-Neisseria.fasta',\n",
       " 'data/GCF_000027325.1_ASM2732v1-Mycoplasma.fasta',\n",
       " 'data/GCF_000008725.1_ASM872v1-Chlamydia.fasta',\n",
       " 'data/GCF_000020305.1_ASM2030v1-Anaplasma.fasta',\n",
       " 'data/GCF_900475035.1_41965_F01-Streptococcus.fasta',\n",
       " 'data/GCF_005156105.1_ASM515610v1-Mycobacterium.fasta',\n",
       " 'data/GCF_008632635.1_ASM863263v1-Acinetobacter.fasta',\n",
       " 'data/GCF_000013425.1_ASM1342v1-Staphylococcus.fasta',\n",
       " 'data/GCF_017821535.1_ASM1782153v1-Helicobacter.fasta',\n",
       " 'data/GCF_002074095.1_ASM207409v1-Bacillus.fasta',\n",
       " 'data/GCF_000400855.1_ASM40085v1-Mycoplasma.fasta',\n",
       " 'data/GCF_001457555.1_NCTC10562-Fusobacterium.fasta',\n",
       " 'data/GCF_020785475.1_ASM2078547v1-Limosilactobacillus.fasta',\n",
       " 'data/GCF_002073495.2_ASM207349v2-Leptospira.fasta',\n",
       " 'data/GCF_006538985.1_ASM653898v1-Paenarthrobacter.fasta',\n",
       " 'data/GCF_001905915.1_ASM190591v1-Shigella.fasta',\n",
       " 'data/GCF_019602855.1_ASM1960285v1-Cupriavidus.fasta',\n",
       " 'data/GCF_021117135.1_ASM2111713v1-Ralstonia.fasta',\n",
       " 'data/GCF_000931575.1_ASM93157v1-Haemophilus.fasta',\n",
       " 'data/GCF_000195955.2_ASM19595v2-Mycobacterium.fasta',\n",
       " 'data/GCF_000178875.2_ASM17887v2-Shewanella.fasta',\n",
       " 'data/GCF_000012345.1_ASM1234v1-Candidatus.fasta',\n",
       " 'data/GCF_000012765.1_ASM1276v1-Mycoplasma.fasta',\n",
       " 'data/GCF_000632965.1_ASM63296v1-Ehrlichia.fasta',\n",
       " 'data/GCF_016889925.1_ASM1688992v1-Bacteroides.fasta',\n",
       " 'data/GCF_000404185.1_ASM40418v1-Corynebacterium.fasta',\n",
       " 'data/GCF_000829825.1_ASM82982v1-Magnetospirillum.fasta',\n",
       " 'data/GCF_002966535.1_ASM296653v1-Oenococcus.fasta',\n",
       " 'data/GCF_000006765.1_ASM676v1-Pseudomonas.fasta',\n",
       " 'data/GCF_000007205.1_ASM720v1-Chlamydia.fasta',\n",
       " 'data/GCF_001021915.1_ASM102191v1-Xanthomonas.fasta',\n",
       " 'data/GCF_003667905.1_ASM366790v1-Agrobacterium.fasta',\n",
       " 'data/GCF_000834295.1_ASM83429v1-Yersinia.fasta',\n",
       " 'data/GCF_000091545.1_ASM9154v1-Thermus.fasta',\n",
       " 'data/GCF_000222975.1_ASM22297v1-Yersinia.fasta',\n",
       " 'data/GCF_016584445.1_ASM1658444v1-Rhodopseudomonas.fasta',\n",
       " 'data/GCF_000961215.1_ASM96121v1-Xanthomonas.fasta',\n",
       " 'data/GCF_000009085.1_ASM908v1-Campylobacter.fasta',\n",
       " 'data/GCF_003516145.1_ASM351614v1-Leptospira.fasta',\n",
       " 'data/GCF_000412675.1_ASM41267v1-Pseudomonas.fasta',\n",
       " 'data/GCF_000008385.1_ASM838v1-Wolbachia.fasta',\n",
       " 'data/GCF_000006945.2_ASM694v2-Salmonella.fasta',\n",
       " 'data/GCF_001753085.1_ASM175308v1-Legionella.fasta',\n",
       " 'data/GCF_009150585.1_ASM915058v1-Mycoplasmopsis.fasta',\n",
       " 'data/GCF_002983865.1_ASM298386v1-Roseobacter.fasta',\n",
       " 'data/GCF_000012805.1_ASM1280v1-Nitrosococcus.fasta',\n",
       " 'data/GCF_000196075.1_ASM19607v1-Tropheryma.fasta',\n",
       " 'data/GCF_009498695.1_ASM949869v1-Bartonella.fasta',\n",
       " 'data/GCF_001552035.1_ASM155203v1-Streptococcus.fasta',\n",
       " 'data/GCF_018885085.1_ASM1888508v1-Clostridioides.fasta',\n",
       " 'data/GCF_000960005.1_ASM96000v1-Streptococcus.fasta',\n",
       " 'data/GCF_020138775.1_ASM2013877v1-Clostridium.fasta',\n",
       " 'data/GCF_000021005.1_ASM2100v1-Cereibacter.fasta',\n",
       " 'data/GCF_008369605.1_ASM836960v1-Vibrio.fasta',\n",
       " 'data/GCF_000696715.1_Maq_reference_guided_assembly-Mycobacterium.fasta',\n",
       " 'data/GCF_000008445.1_ASM844v1-Bacillus.fasta',\n",
       " 'data/GCF_000007725.1_ASM772v1-Buchnera.fasta',\n",
       " 'data/GCF_000016425.1_ASM1642v1-Salinispora.fasta',\n",
       " 'data/GCF_000006925.2_ASM692v2-Shigella.fasta',\n",
       " 'data/GCF_000196555.1_ASM19655v1-Bifidobacterium.fasta',\n",
       " 'data/GCF_002346025.1_ASM234602v1-Burkholderia.fasta',\n",
       " 'data/GCF_012931585.1_ASM1293158v1-Aeromonas.fasta',\n",
       " 'data/GCF_000015085.1_ASM1508v1-Campylobacter.fasta',\n",
       " 'data/GCF_000007765.2_ASM776v2-Coxiella.fasta',\n",
       " 'data/GCF_000006605.1_ASM660v1-Corynebacterium.fasta',\n",
       " 'data/GCF_002220285.1_ASM222028v1-Bacillus.fasta']"
      ]
     },
     "execution_count": 61,
     "metadata": {},
     "output_type": "execute_result"
    }
   ],
   "source": [
    "rnas"
   ]
  },
  {
   "cell_type": "code",
   "execution_count": 62,
   "metadata": {},
   "outputs": [
    {
     "data": {
      "text/plain": [
       "100"
      ]
     },
     "execution_count": 62,
     "metadata": {},
     "output_type": "execute_result"
    }
   ],
   "source": [
    "len(rnas)"
   ]
  },
  {
   "cell_type": "code",
   "execution_count": 63,
   "metadata": {},
   "outputs": [],
   "source": [
    "from Bio import SeqIO\n",
    "for arquivo in rnas:\n",
    "    for info in SeqIO.parse(arquivo,\"fasta\"):\n",
    "         if not (\"16S\" in info.description and \"23S\" in info.description):\n",
    "            try:\n",
    "                rnas.remove(arquivo)\n",
    "            except:\n",
    "                pass\n"
   ]
  },
  {
   "cell_type": "code",
   "execution_count": 64,
   "metadata": {},
   "outputs": [
    {
     "data": {
      "text/plain": [
       "50"
      ]
     },
     "execution_count": 64,
     "metadata": {},
     "output_type": "execute_result"
    }
   ],
   "source": [
    "len(rnas)"
   ]
  },
  {
   "cell_type": "code",
   "execution_count": 65,
   "metadata": {},
   "outputs": [],
   "source": [
    "from Bio import SeqIO\n",
    "with open(\"dataset16s.fasta\",\"w+\") as file:\n",
    "    for arquivo in rnas:\n",
    "        for info in SeqIO.parse(arquivo,\"fasta\"):\n",
    "            if \"16S\" in info.description:\n",
    "                genome_id = arquivo.split(\"/\")[-1].split(\"_r\")[0]\n",
    "                file.write(f\">{genome_id}-{info.id}\\n\")\n",
    "                file.write(f\"{info.seq}\\n\")           "
   ]
  },
  {
   "cell_type": "code",
   "execution_count": 66,
   "metadata": {},
   "outputs": [
    {
     "name": "stdout",
     "output_type": "stream",
     "text": [
      "\n",
      "\n",
      "Building a new DB, current time: 06/08/2022 16:41:20\n",
      "New DB name:   /home/tiago/documents/projeto_iam/bast/rna_db\n",
      "New DB title:  rna_16S\n",
      "Sequence type: Nucleotide\n",
      "Keep MBits: T\n",
      "Maximum file size: 1000000000B\n",
      "Adding sequences from FASTA; added 227 sequences in 0.00981092 seconds.\n"
     ]
    }
   ],
   "source": [
    "#Crete db from hmd fasta\n",
    "!makeblastdb -in /home/tiago/documents/projeto_iam/dataset16s.fasta -out /home/tiago/documents/projeto_iam/bast/rna_db -dbtype nucl -title \"rna_16S\""
   ]
  },
  {
   "cell_type": "code",
   "execution_count": 67,
   "metadata": {},
   "outputs": [],
   "source": [
    "#Bast my results vs hmd-db\n",
    "!blastn -db /home/tiago/documents/projeto_iam/bast/rna_db -query /home/tiago/documents/projeto_iam/dataset16s.fasta -outfmt 7 -out rna16s.tsv"
   ]
  },
  {
   "cell_type": "code",
   "execution_count": 94,
   "metadata": {},
   "outputs": [],
   "source": [
    "rna16s_blast= pd.read_csv(\n",
    "    \"rna16s.tsv\", \n",
    "    sep = \"\\t\", \n",
    "    skiprows = 6,\n",
    "    names = [\"query_id\", \"subject_id\", \"identity\", \"alignment_length\", \"mismatches\", \"gap_opens\", \"q_start\", \"q_end\", \"s_start\", \"s_end\", \"evalue\", \"bit_score\"]\n",
    "    )\n",
    "rna16s_blast.dropna(inplace = True)"
   ]
  },
  {
   "cell_type": "code",
   "execution_count": 69,
   "metadata": {},
   "outputs": [
    {
     "data": {
      "text/html": [
       "<div>\n",
       "<style scoped>\n",
       "    .dataframe tbody tr th:only-of-type {\n",
       "        vertical-align: middle;\n",
       "    }\n",
       "\n",
       "    .dataframe tbody tr th {\n",
       "        vertical-align: top;\n",
       "    }\n",
       "\n",
       "    .dataframe thead th {\n",
       "        text-align: right;\n",
       "    }\n",
       "</style>\n",
       "<table border=\"1\" class=\"dataframe\">\n",
       "  <thead>\n",
       "    <tr style=\"text-align: right;\">\n",
       "      <th></th>\n",
       "      <th>query_id</th>\n",
       "      <th>subject_id</th>\n",
       "      <th>identity</th>\n",
       "      <th>alignment_length</th>\n",
       "      <th>mismatches</th>\n",
       "      <th>gap_opens</th>\n",
       "      <th>q_start</th>\n",
       "      <th>q_end</th>\n",
       "      <th>s_start</th>\n",
       "      <th>s_end</th>\n",
       "      <th>evalue</th>\n",
       "      <th>bit_score</th>\n",
       "    </tr>\n",
       "  </thead>\n",
       "  <tbody>\n",
       "    <tr>\n",
       "      <th>0</th>\n",
       "      <td>GCF_016694755.2_ASM1669475v2-Pseudomonas.fasta...</td>\n",
       "      <td>GCF_016694755.2_ASM1669475v2-Pseudomonas.fasta...</td>\n",
       "      <td>100.000</td>\n",
       "      <td>1539.0</td>\n",
       "      <td>0.0</td>\n",
       "      <td>0.0</td>\n",
       "      <td>1.0</td>\n",
       "      <td>1539.0</td>\n",
       "      <td>1.0</td>\n",
       "      <td>1539.0</td>\n",
       "      <td>0.0</td>\n",
       "      <td>2843.0</td>\n",
       "    </tr>\n",
       "    <tr>\n",
       "      <th>1</th>\n",
       "      <td>GCF_016694755.2_ASM1669475v2-Pseudomonas.fasta...</td>\n",
       "      <td>GCF_016694755.2_ASM1669475v2-Pseudomonas.fasta...</td>\n",
       "      <td>100.000</td>\n",
       "      <td>1539.0</td>\n",
       "      <td>0.0</td>\n",
       "      <td>0.0</td>\n",
       "      <td>1.0</td>\n",
       "      <td>1539.0</td>\n",
       "      <td>1.0</td>\n",
       "      <td>1539.0</td>\n",
       "      <td>0.0</td>\n",
       "      <td>2843.0</td>\n",
       "    </tr>\n",
       "    <tr>\n",
       "      <th>2</th>\n",
       "      <td>GCF_016694755.2_ASM1669475v2-Pseudomonas.fasta...</td>\n",
       "      <td>GCF_016694755.2_ASM1669475v2-Pseudomonas.fasta...</td>\n",
       "      <td>99.805</td>\n",
       "      <td>1539.0</td>\n",
       "      <td>3.0</td>\n",
       "      <td>0.0</td>\n",
       "      <td>1.0</td>\n",
       "      <td>1539.0</td>\n",
       "      <td>1.0</td>\n",
       "      <td>1539.0</td>\n",
       "      <td>0.0</td>\n",
       "      <td>2826.0</td>\n",
       "    </tr>\n",
       "    <tr>\n",
       "      <th>3</th>\n",
       "      <td>GCF_016694755.2_ASM1669475v2-Pseudomonas.fasta...</td>\n",
       "      <td>GCF_016694755.2_ASM1669475v2-Pseudomonas.fasta...</td>\n",
       "      <td>99.805</td>\n",
       "      <td>1539.0</td>\n",
       "      <td>3.0</td>\n",
       "      <td>0.0</td>\n",
       "      <td>1.0</td>\n",
       "      <td>1539.0</td>\n",
       "      <td>1.0</td>\n",
       "      <td>1539.0</td>\n",
       "      <td>0.0</td>\n",
       "      <td>2826.0</td>\n",
       "    </tr>\n",
       "    <tr>\n",
       "      <th>4</th>\n",
       "      <td>GCF_016694755.2_ASM1669475v2-Pseudomonas.fasta...</td>\n",
       "      <td>GCF_900215245.1_IMG-taxon_2617270901_annotated...</td>\n",
       "      <td>97.987</td>\n",
       "      <td>1540.0</td>\n",
       "      <td>27.0</td>\n",
       "      <td>4.0</td>\n",
       "      <td>1.0</td>\n",
       "      <td>1539.0</td>\n",
       "      <td>1.0</td>\n",
       "      <td>1537.0</td>\n",
       "      <td>0.0</td>\n",
       "      <td>2669.0</td>\n",
       "    </tr>\n",
       "    <tr>\n",
       "      <th>...</th>\n",
       "      <td>...</td>\n",
       "      <td>...</td>\n",
       "      <td>...</td>\n",
       "      <td>...</td>\n",
       "      <td>...</td>\n",
       "      <td>...</td>\n",
       "      <td>...</td>\n",
       "      <td>...</td>\n",
       "      <td>...</td>\n",
       "      <td>...</td>\n",
       "      <td>...</td>\n",
       "      <td>...</td>\n",
       "    </tr>\n",
       "    <tr>\n",
       "      <th>55565</th>\n",
       "      <td>GCF_002220285.1_ASM222028v1-Bacillus.fasta-lcl...</td>\n",
       "      <td>GCF_000009085.1_ASM908v1-Campylobacter.fasta-l...</td>\n",
       "      <td>76.497</td>\n",
       "      <td>1570.0</td>\n",
       "      <td>289.0</td>\n",
       "      <td>59.0</td>\n",
       "      <td>1.0</td>\n",
       "      <td>1550.0</td>\n",
       "      <td>4.0</td>\n",
       "      <td>1513.0</td>\n",
       "      <td>0.0</td>\n",
       "      <td>782.0</td>\n",
       "    </tr>\n",
       "    <tr>\n",
       "      <th>55566</th>\n",
       "      <td>GCF_002220285.1_ASM222028v1-Bacillus.fasta-lcl...</td>\n",
       "      <td>GCF_000009085.1_ASM908v1-Campylobacter.fasta-l...</td>\n",
       "      <td>76.497</td>\n",
       "      <td>1570.0</td>\n",
       "      <td>289.0</td>\n",
       "      <td>59.0</td>\n",
       "      <td>1.0</td>\n",
       "      <td>1550.0</td>\n",
       "      <td>4.0</td>\n",
       "      <td>1513.0</td>\n",
       "      <td>0.0</td>\n",
       "      <td>782.0</td>\n",
       "    </tr>\n",
       "    <tr>\n",
       "      <th>55567</th>\n",
       "      <td>GCF_002220285.1_ASM222028v1-Bacillus.fasta-lcl...</td>\n",
       "      <td>GCF_000009085.1_ASM908v1-Campylobacter.fasta-l...</td>\n",
       "      <td>76.497</td>\n",
       "      <td>1570.0</td>\n",
       "      <td>289.0</td>\n",
       "      <td>59.0</td>\n",
       "      <td>1.0</td>\n",
       "      <td>1550.0</td>\n",
       "      <td>4.0</td>\n",
       "      <td>1513.0</td>\n",
       "      <td>0.0</td>\n",
       "      <td>782.0</td>\n",
       "    </tr>\n",
       "    <tr>\n",
       "      <th>55568</th>\n",
       "      <td>GCF_002220285.1_ASM222028v1-Bacillus.fasta-lcl...</td>\n",
       "      <td>GCF_000027325.1_ASM2732v1-Mycoplasma.fasta-lcl...</td>\n",
       "      <td>76.489</td>\n",
       "      <td>1578.0</td>\n",
       "      <td>273.0</td>\n",
       "      <td>68.0</td>\n",
       "      <td>7.0</td>\n",
       "      <td>1552.0</td>\n",
       "      <td>7.0</td>\n",
       "      <td>1518.0</td>\n",
       "      <td>0.0</td>\n",
       "      <td>769.0</td>\n",
       "    </tr>\n",
       "    <tr>\n",
       "      <th>55569</th>\n",
       "      <td>GCF_002220285.1_ASM222028v1-Bacillus.fasta-lcl...</td>\n",
       "      <td>GCF_000012345.1_ASM1234v1-Candidatus.fasta-lcl...</td>\n",
       "      <td>77.154</td>\n",
       "      <td>1335.0</td>\n",
       "      <td>237.0</td>\n",
       "      <td>51.0</td>\n",
       "      <td>233.0</td>\n",
       "      <td>1552.0</td>\n",
       "      <td>194.0</td>\n",
       "      <td>1475.0</td>\n",
       "      <td>0.0</td>\n",
       "      <td>713.0</td>\n",
       "    </tr>\n",
       "  </tbody>\n",
       "</table>\n",
       "<p>54440 rows × 12 columns</p>\n",
       "</div>"
      ],
      "text/plain": [
       "                                                query_id  \\\n",
       "0      GCF_016694755.2_ASM1669475v2-Pseudomonas.fasta...   \n",
       "1      GCF_016694755.2_ASM1669475v2-Pseudomonas.fasta...   \n",
       "2      GCF_016694755.2_ASM1669475v2-Pseudomonas.fasta...   \n",
       "3      GCF_016694755.2_ASM1669475v2-Pseudomonas.fasta...   \n",
       "4      GCF_016694755.2_ASM1669475v2-Pseudomonas.fasta...   \n",
       "...                                                  ...   \n",
       "55565  GCF_002220285.1_ASM222028v1-Bacillus.fasta-lcl...   \n",
       "55566  GCF_002220285.1_ASM222028v1-Bacillus.fasta-lcl...   \n",
       "55567  GCF_002220285.1_ASM222028v1-Bacillus.fasta-lcl...   \n",
       "55568  GCF_002220285.1_ASM222028v1-Bacillus.fasta-lcl...   \n",
       "55569  GCF_002220285.1_ASM222028v1-Bacillus.fasta-lcl...   \n",
       "\n",
       "                                              subject_id  identity  \\\n",
       "0      GCF_016694755.2_ASM1669475v2-Pseudomonas.fasta...   100.000   \n",
       "1      GCF_016694755.2_ASM1669475v2-Pseudomonas.fasta...   100.000   \n",
       "2      GCF_016694755.2_ASM1669475v2-Pseudomonas.fasta...    99.805   \n",
       "3      GCF_016694755.2_ASM1669475v2-Pseudomonas.fasta...    99.805   \n",
       "4      GCF_900215245.1_IMG-taxon_2617270901_annotated...    97.987   \n",
       "...                                                  ...       ...   \n",
       "55565  GCF_000009085.1_ASM908v1-Campylobacter.fasta-l...    76.497   \n",
       "55566  GCF_000009085.1_ASM908v1-Campylobacter.fasta-l...    76.497   \n",
       "55567  GCF_000009085.1_ASM908v1-Campylobacter.fasta-l...    76.497   \n",
       "55568  GCF_000027325.1_ASM2732v1-Mycoplasma.fasta-lcl...    76.489   \n",
       "55569  GCF_000012345.1_ASM1234v1-Candidatus.fasta-lcl...    77.154   \n",
       "\n",
       "       alignment_length  mismatches  gap_opens  q_start   q_end  s_start  \\\n",
       "0                1539.0         0.0        0.0      1.0  1539.0      1.0   \n",
       "1                1539.0         0.0        0.0      1.0  1539.0      1.0   \n",
       "2                1539.0         3.0        0.0      1.0  1539.0      1.0   \n",
       "3                1539.0         3.0        0.0      1.0  1539.0      1.0   \n",
       "4                1540.0        27.0        4.0      1.0  1539.0      1.0   \n",
       "...                 ...         ...        ...      ...     ...      ...   \n",
       "55565            1570.0       289.0       59.0      1.0  1550.0      4.0   \n",
       "55566            1570.0       289.0       59.0      1.0  1550.0      4.0   \n",
       "55567            1570.0       289.0       59.0      1.0  1550.0      4.0   \n",
       "55568            1578.0       273.0       68.0      7.0  1552.0      7.0   \n",
       "55569            1335.0       237.0       51.0    233.0  1552.0    194.0   \n",
       "\n",
       "        s_end  evalue  bit_score  \n",
       "0      1539.0     0.0     2843.0  \n",
       "1      1539.0     0.0     2843.0  \n",
       "2      1539.0     0.0     2826.0  \n",
       "3      1539.0     0.0     2826.0  \n",
       "4      1537.0     0.0     2669.0  \n",
       "...       ...     ...        ...  \n",
       "55565  1513.0     0.0      782.0  \n",
       "55566  1513.0     0.0      782.0  \n",
       "55567  1513.0     0.0      782.0  \n",
       "55568  1518.0     0.0      769.0  \n",
       "55569  1475.0     0.0      713.0  \n",
       "\n",
       "[54440 rows x 12 columns]"
      ]
     },
     "execution_count": 69,
     "metadata": {},
     "output_type": "execute_result"
    }
   ],
   "source": [
    "rna16s_blast"
   ]
  },
  {
   "cell_type": "code",
   "execution_count": 70,
   "metadata": {},
   "outputs": [],
   "source": [
    "from Bio import SeqIO\n",
    "with open(\"dataset23s.fasta\",\"w+\") as file:\n",
    "    for arquivo in rnas:\n",
    "        for info in SeqIO.parse(arquivo,\"fasta\"):\n",
    "            if \"23S\" in info.description:\n",
    "                genome_id = arquivo.split(\"/\")[-1].split(\"_r\")[0]\n",
    "                file.write(f\">{genome_id}-{info.id}\\n\")\n",
    "                file.write(f\"{info.seq}\\n\")         "
   ]
  },
  {
   "cell_type": "code",
   "execution_count": 71,
   "metadata": {},
   "outputs": [
    {
     "name": "stdout",
     "output_type": "stream",
     "text": [
      "\n",
      "\n",
      "Building a new DB, current time: 06/08/2022 16:41:32\n",
      "New DB name:   /home/tiago/documents/projeto_iam/bast/rna23_db\n",
      "New DB title:  rna_23S\n",
      "Sequence type: Nucleotide\n",
      "Keep MBits: T\n",
      "Maximum file size: 1000000000B\n",
      "Adding sequences from FASTA; added 226 sequences in 0.0135031 seconds.\n"
     ]
    }
   ],
   "source": [
    "!makeblastdb -in /home/tiago/documents/projeto_iam/dataset23s.fasta -out /home/tiago/documents/projeto_iam/bast/rna23_db -dbtype nucl -title \"rna_23S\""
   ]
  },
  {
   "cell_type": "code",
   "execution_count": 72,
   "metadata": {},
   "outputs": [],
   "source": [
    "!blastn -db /home/tiago/documents/projeto_iam/bast/rna23_db -query /home/tiago/documents/projeto_iam/dataset23s.fasta -outfmt 7 -out rna23s.tsv"
   ]
  },
  {
   "cell_type": "code",
   "execution_count": 95,
   "metadata": {},
   "outputs": [],
   "source": [
    "rna23s_blast= pd.read_csv(\n",
    "    \"rna16s.tsv\", \n",
    "    sep = \"\\t\", \n",
    "    skiprows = 6,\n",
    "    names = [\"query_id\", \"subject_id\", \"identity\", \"alignment_length\", \"mismatches\", \"gap_opens\", \"q_start\", \"q_end\", \"s_start\", \"s_end\", \"evalue\", \"bit_score\"]\n",
    "    )\n",
    "rna23s_blast.dropna(inplace = True)"
   ]
  },
  {
   "cell_type": "code",
   "execution_count": 77,
   "metadata": {},
   "outputs": [
    {
     "data": {
      "text/html": [
       "<div>\n",
       "<style scoped>\n",
       "    .dataframe tbody tr th:only-of-type {\n",
       "        vertical-align: middle;\n",
       "    }\n",
       "\n",
       "    .dataframe tbody tr th {\n",
       "        vertical-align: top;\n",
       "    }\n",
       "\n",
       "    .dataframe thead th {\n",
       "        text-align: right;\n",
       "    }\n",
       "</style>\n",
       "<table border=\"1\" class=\"dataframe\">\n",
       "  <thead>\n",
       "    <tr style=\"text-align: right;\">\n",
       "      <th></th>\n",
       "      <th>query_id</th>\n",
       "      <th>subject_id</th>\n",
       "      <th>identity</th>\n",
       "      <th>alignment_length</th>\n",
       "      <th>mismatches</th>\n",
       "      <th>gap_opens</th>\n",
       "      <th>q_start</th>\n",
       "      <th>q_end</th>\n",
       "      <th>s_start</th>\n",
       "      <th>s_end</th>\n",
       "      <th>evalue</th>\n",
       "      <th>bit_score</th>\n",
       "    </tr>\n",
       "  </thead>\n",
       "  <tbody>\n",
       "    <tr>\n",
       "      <th>0</th>\n",
       "      <td>GCF_016694755.2_ASM1669475v2-Pseudomonas.fasta...</td>\n",
       "      <td>GCF_016694755.2_ASM1669475v2-Pseudomonas.fasta...</td>\n",
       "      <td>100.000</td>\n",
       "      <td>1539.0</td>\n",
       "      <td>0.0</td>\n",
       "      <td>0.0</td>\n",
       "      <td>1.0</td>\n",
       "      <td>1539.0</td>\n",
       "      <td>1.0</td>\n",
       "      <td>1539.0</td>\n",
       "      <td>0.0</td>\n",
       "      <td>2843.0</td>\n",
       "    </tr>\n",
       "    <tr>\n",
       "      <th>1</th>\n",
       "      <td>GCF_016694755.2_ASM1669475v2-Pseudomonas.fasta...</td>\n",
       "      <td>GCF_016694755.2_ASM1669475v2-Pseudomonas.fasta...</td>\n",
       "      <td>100.000</td>\n",
       "      <td>1539.0</td>\n",
       "      <td>0.0</td>\n",
       "      <td>0.0</td>\n",
       "      <td>1.0</td>\n",
       "      <td>1539.0</td>\n",
       "      <td>1.0</td>\n",
       "      <td>1539.0</td>\n",
       "      <td>0.0</td>\n",
       "      <td>2843.0</td>\n",
       "    </tr>\n",
       "    <tr>\n",
       "      <th>2</th>\n",
       "      <td>GCF_016694755.2_ASM1669475v2-Pseudomonas.fasta...</td>\n",
       "      <td>GCF_016694755.2_ASM1669475v2-Pseudomonas.fasta...</td>\n",
       "      <td>99.805</td>\n",
       "      <td>1539.0</td>\n",
       "      <td>3.0</td>\n",
       "      <td>0.0</td>\n",
       "      <td>1.0</td>\n",
       "      <td>1539.0</td>\n",
       "      <td>1.0</td>\n",
       "      <td>1539.0</td>\n",
       "      <td>0.0</td>\n",
       "      <td>2826.0</td>\n",
       "    </tr>\n",
       "    <tr>\n",
       "      <th>3</th>\n",
       "      <td>GCF_016694755.2_ASM1669475v2-Pseudomonas.fasta...</td>\n",
       "      <td>GCF_016694755.2_ASM1669475v2-Pseudomonas.fasta...</td>\n",
       "      <td>99.805</td>\n",
       "      <td>1539.0</td>\n",
       "      <td>3.0</td>\n",
       "      <td>0.0</td>\n",
       "      <td>1.0</td>\n",
       "      <td>1539.0</td>\n",
       "      <td>1.0</td>\n",
       "      <td>1539.0</td>\n",
       "      <td>0.0</td>\n",
       "      <td>2826.0</td>\n",
       "    </tr>\n",
       "    <tr>\n",
       "      <th>4</th>\n",
       "      <td>GCF_016694755.2_ASM1669475v2-Pseudomonas.fasta...</td>\n",
       "      <td>GCF_900215245.1_IMG-taxon_2617270901_annotated...</td>\n",
       "      <td>97.987</td>\n",
       "      <td>1540.0</td>\n",
       "      <td>27.0</td>\n",
       "      <td>4.0</td>\n",
       "      <td>1.0</td>\n",
       "      <td>1539.0</td>\n",
       "      <td>1.0</td>\n",
       "      <td>1537.0</td>\n",
       "      <td>0.0</td>\n",
       "      <td>2669.0</td>\n",
       "    </tr>\n",
       "  </tbody>\n",
       "</table>\n",
       "</div>"
      ],
      "text/plain": [
       "                                            query_id  \\\n",
       "0  GCF_016694755.2_ASM1669475v2-Pseudomonas.fasta...   \n",
       "1  GCF_016694755.2_ASM1669475v2-Pseudomonas.fasta...   \n",
       "2  GCF_016694755.2_ASM1669475v2-Pseudomonas.fasta...   \n",
       "3  GCF_016694755.2_ASM1669475v2-Pseudomonas.fasta...   \n",
       "4  GCF_016694755.2_ASM1669475v2-Pseudomonas.fasta...   \n",
       "\n",
       "                                          subject_id  identity  \\\n",
       "0  GCF_016694755.2_ASM1669475v2-Pseudomonas.fasta...   100.000   \n",
       "1  GCF_016694755.2_ASM1669475v2-Pseudomonas.fasta...   100.000   \n",
       "2  GCF_016694755.2_ASM1669475v2-Pseudomonas.fasta...    99.805   \n",
       "3  GCF_016694755.2_ASM1669475v2-Pseudomonas.fasta...    99.805   \n",
       "4  GCF_900215245.1_IMG-taxon_2617270901_annotated...    97.987   \n",
       "\n",
       "   alignment_length  mismatches  gap_opens  q_start   q_end  s_start   s_end  \\\n",
       "0            1539.0         0.0        0.0      1.0  1539.0      1.0  1539.0   \n",
       "1            1539.0         0.0        0.0      1.0  1539.0      1.0  1539.0   \n",
       "2            1539.0         3.0        0.0      1.0  1539.0      1.0  1539.0   \n",
       "3            1539.0         3.0        0.0      1.0  1539.0      1.0  1539.0   \n",
       "4            1540.0        27.0        4.0      1.0  1539.0      1.0  1537.0   \n",
       "\n",
       "   evalue  bit_score  \n",
       "0     0.0     2843.0  \n",
       "1     0.0     2843.0  \n",
       "2     0.0     2826.0  \n",
       "3     0.0     2826.0  \n",
       "4     0.0     2669.0  "
      ]
     },
     "execution_count": 77,
     "metadata": {},
     "output_type": "execute_result"
    }
   ],
   "source": [
    "rna23s_blast.head()"
   ]
  },
  {
   "cell_type": "code",
   "execution_count": 78,
   "metadata": {},
   "outputs": [
    {
     "data": {
      "text/plain": [
       "'GCF_016694755.2_ASM1669475v2-Pseudomonas.fasta-lcl|NZ_CP068034.2_rrna_5'"
      ]
     },
     "execution_count": 78,
     "metadata": {},
     "output_type": "execute_result"
    }
   ],
   "source": [
    "rna23s_blast.query_id[2]"
   ]
  },
  {
   "cell_type": "code",
   "execution_count": 79,
   "metadata": {},
   "outputs": [
    {
     "data": {
      "text/plain": [
       "'GCF_016694755.2_ASM1669475v2-Pseudomonas.fasta-lcl|NZ_CP068034.2_rrna_84'"
      ]
     },
     "execution_count": 79,
     "metadata": {},
     "output_type": "execute_result"
    }
   ],
   "source": [
    "rna23s_blast.subject_id[2]"
   ]
  },
  {
   "cell_type": "code",
   "execution_count": 96,
   "metadata": {},
   "outputs": [],
   "source": [
    "rna16s_table = rna16s_blast[[\"query_id\",\"subject_id\",\"identity\"]]"
   ]
  },
  {
   "cell_type": "code",
   "execution_count": 97,
   "metadata": {},
   "outputs": [
    {
     "name": "stderr",
     "output_type": "stream",
     "text": [
      "<ipython-input-97-7f1697763a85>:1: SettingWithCopyWarning: \n",
      "A value is trying to be set on a copy of a slice from a DataFrame.\n",
      "Try using .loc[row_indexer,col_indexer] = value instead\n",
      "\n",
      "See the caveats in the documentation: https://pandas.pydata.org/pandas-docs/stable/user_guide/indexing.html#returning-a-view-versus-a-copy\n",
      "  rna16s_table[\"gene_query\"] = rna16s_table.query_id.apply(lambda x: x.split(\"-\")[-1])\n",
      "<ipython-input-97-7f1697763a85>:2: SettingWithCopyWarning: \n",
      "A value is trying to be set on a copy of a slice from a DataFrame.\n",
      "Try using .loc[row_indexer,col_indexer] = value instead\n",
      "\n",
      "See the caveats in the documentation: https://pandas.pydata.org/pandas-docs/stable/user_guide/indexing.html#returning-a-view-versus-a-copy\n",
      "  rna16s_table[\"gene_subeject\"] = rna16s_table.subject_id.apply(lambda x: x.split(\"-\")[-1])\n"
     ]
    }
   ],
   "source": [
    "rna16s_table[\"gene_query\"] = rna16s_table.query_id.apply(lambda x: x.split(\"-\")[-1])\n",
    "rna16s_table[\"gene_subeject\"] = rna16s_table.subject_id.apply(lambda x: x.split(\"-\")[-1])\n"
   ]
  },
  {
   "cell_type": "code",
   "execution_count": 98,
   "metadata": {},
   "outputs": [
    {
     "name": "stderr",
     "output_type": "stream",
     "text": [
      "<ipython-input-98-bb1a856cac82>:1: SettingWithCopyWarning: \n",
      "A value is trying to be set on a copy of a slice from a DataFrame.\n",
      "Try using .loc[row_indexer,col_indexer] = value instead\n",
      "\n",
      "See the caveats in the documentation: https://pandas.pydata.org/pandas-docs/stable/user_guide/indexing.html#returning-a-view-versus-a-copy\n",
      "  rna16s_table[\"classe\"] = rna16s_table.query_id.apply(lambda x: x.split(\"-\")[1].split(\".\")[0])\n"
     ]
    }
   ],
   "source": [
    "rna16s_table[\"classe\"] = rna16s_table.query_id.apply(lambda x: x.split(\"-\")[1].split(\".\")[0])"
   ]
  },
  {
   "cell_type": "code",
   "execution_count": 100,
   "metadata": {},
   "outputs": [
    {
     "name": "stderr",
     "output_type": "stream",
     "text": [
      "<ipython-input-100-8bb333c19696>:1: SettingWithCopyWarning: \n",
      "A value is trying to be set on a copy of a slice from a DataFrame.\n",
      "Try using .loc[row_indexer,col_indexer] = value instead\n",
      "\n",
      "See the caveats in the documentation: https://pandas.pydata.org/pandas-docs/stable/user_guide/indexing.html#returning-a-view-versus-a-copy\n",
      "  rna16s_table[\"genome_query\"] = rna16s_table.query_id.apply(lambda x: x.split(\"-\")[0])\n",
      "<ipython-input-100-8bb333c19696>:2: SettingWithCopyWarning: \n",
      "A value is trying to be set on a copy of a slice from a DataFrame.\n",
      "Try using .loc[row_indexer,col_indexer] = value instead\n",
      "\n",
      "See the caveats in the documentation: https://pandas.pydata.org/pandas-docs/stable/user_guide/indexing.html#returning-a-view-versus-a-copy\n",
      "  rna16s_table[\"genome_subject\"] = rna16s_table.subject_id.apply(lambda x: x.split(\"-\")[0])\n"
     ]
    }
   ],
   "source": [
    "rna16s_table[\"genome_query\"] = rna16s_table.query_id.apply(lambda x: x.split(\"-\")[0])\n",
    "rna16s_table[\"genome_subject\"] = rna16s_table.subject_id.apply(lambda x: x.split(\"-\")[0])"
   ]
  },
  {
   "cell_type": "code",
   "execution_count": 101,
   "metadata": {},
   "outputs": [
    {
     "data": {
      "text/html": [
       "<div>\n",
       "<style scoped>\n",
       "    .dataframe tbody tr th:only-of-type {\n",
       "        vertical-align: middle;\n",
       "    }\n",
       "\n",
       "    .dataframe tbody tr th {\n",
       "        vertical-align: top;\n",
       "    }\n",
       "\n",
       "    .dataframe thead th {\n",
       "        text-align: right;\n",
       "    }\n",
       "</style>\n",
       "<table border=\"1\" class=\"dataframe\">\n",
       "  <thead>\n",
       "    <tr style=\"text-align: right;\">\n",
       "      <th></th>\n",
       "      <th>query_id</th>\n",
       "      <th>subject_id</th>\n",
       "      <th>identity</th>\n",
       "      <th>gene_query</th>\n",
       "      <th>gene_subeject</th>\n",
       "      <th>classe</th>\n",
       "      <th>genome_query</th>\n",
       "      <th>genome_subject</th>\n",
       "    </tr>\n",
       "  </thead>\n",
       "  <tbody>\n",
       "    <tr>\n",
       "      <th>0</th>\n",
       "      <td>GCF_016694755.2_ASM1669475v2-Pseudomonas.fasta...</td>\n",
       "      <td>GCF_016694755.2_ASM1669475v2-Pseudomonas.fasta...</td>\n",
       "      <td>100.000</td>\n",
       "      <td>lcl|NZ_CP068034.2_rrna_5</td>\n",
       "      <td>lcl|NZ_CP068034.2_rrna_14</td>\n",
       "      <td>Pseudomonas</td>\n",
       "      <td>GCF_016694755.2_ASM1669475v2</td>\n",
       "      <td>GCF_016694755.2_ASM1669475v2</td>\n",
       "    </tr>\n",
       "    <tr>\n",
       "      <th>1</th>\n",
       "      <td>GCF_016694755.2_ASM1669475v2-Pseudomonas.fasta...</td>\n",
       "      <td>GCF_016694755.2_ASM1669475v2-Pseudomonas.fasta...</td>\n",
       "      <td>100.000</td>\n",
       "      <td>lcl|NZ_CP068034.2_rrna_5</td>\n",
       "      <td>lcl|NZ_CP068034.2_rrna_5</td>\n",
       "      <td>Pseudomonas</td>\n",
       "      <td>GCF_016694755.2_ASM1669475v2</td>\n",
       "      <td>GCF_016694755.2_ASM1669475v2</td>\n",
       "    </tr>\n",
       "    <tr>\n",
       "      <th>2</th>\n",
       "      <td>GCF_016694755.2_ASM1669475v2-Pseudomonas.fasta...</td>\n",
       "      <td>GCF_016694755.2_ASM1669475v2-Pseudomonas.fasta...</td>\n",
       "      <td>99.805</td>\n",
       "      <td>lcl|NZ_CP068034.2_rrna_5</td>\n",
       "      <td>lcl|NZ_CP068034.2_rrna_84</td>\n",
       "      <td>Pseudomonas</td>\n",
       "      <td>GCF_016694755.2_ASM1669475v2</td>\n",
       "      <td>GCF_016694755.2_ASM1669475v2</td>\n",
       "    </tr>\n",
       "    <tr>\n",
       "      <th>3</th>\n",
       "      <td>GCF_016694755.2_ASM1669475v2-Pseudomonas.fasta...</td>\n",
       "      <td>GCF_016694755.2_ASM1669475v2-Pseudomonas.fasta...</td>\n",
       "      <td>99.805</td>\n",
       "      <td>lcl|NZ_CP068034.2_rrna_5</td>\n",
       "      <td>lcl|NZ_CP068034.2_rrna_53</td>\n",
       "      <td>Pseudomonas</td>\n",
       "      <td>GCF_016694755.2_ASM1669475v2</td>\n",
       "      <td>GCF_016694755.2_ASM1669475v2</td>\n",
       "    </tr>\n",
       "    <tr>\n",
       "      <th>4</th>\n",
       "      <td>GCF_016694755.2_ASM1669475v2-Pseudomonas.fasta...</td>\n",
       "      <td>GCF_900215245.1_IMG-taxon_2617270901_annotated...</td>\n",
       "      <td>97.987</td>\n",
       "      <td>lcl|NZ_CP068034.2_rrna_5</td>\n",
       "      <td>lcl|NZ_LT907842.1_rrna_53</td>\n",
       "      <td>Pseudomonas</td>\n",
       "      <td>GCF_016694755.2_ASM1669475v2</td>\n",
       "      <td>GCF_900215245.1_IMG</td>\n",
       "    </tr>\n",
       "    <tr>\n",
       "      <th>...</th>\n",
       "      <td>...</td>\n",
       "      <td>...</td>\n",
       "      <td>...</td>\n",
       "      <td>...</td>\n",
       "      <td>...</td>\n",
       "      <td>...</td>\n",
       "      <td>...</td>\n",
       "      <td>...</td>\n",
       "    </tr>\n",
       "    <tr>\n",
       "      <th>55565</th>\n",
       "      <td>GCF_002220285.1_ASM222028v1-Bacillus.fasta-lcl...</td>\n",
       "      <td>GCF_000009085.1_ASM908v1-Campylobacter.fasta-l...</td>\n",
       "      <td>76.497</td>\n",
       "      <td>lcl|NZ_CP017060.1_rrna_148</td>\n",
       "      <td>lcl|NC_002163.1_rrna_23</td>\n",
       "      <td>Bacillus</td>\n",
       "      <td>GCF_002220285.1_ASM222028v1</td>\n",
       "      <td>GCF_000009085.1_ASM908v1</td>\n",
       "    </tr>\n",
       "    <tr>\n",
       "      <th>55566</th>\n",
       "      <td>GCF_002220285.1_ASM222028v1-Bacillus.fasta-lcl...</td>\n",
       "      <td>GCF_000009085.1_ASM908v1-Campylobacter.fasta-l...</td>\n",
       "      <td>76.497</td>\n",
       "      <td>lcl|NZ_CP017060.1_rrna_148</td>\n",
       "      <td>lcl|NC_002163.1_rrna_8</td>\n",
       "      <td>Bacillus</td>\n",
       "      <td>GCF_002220285.1_ASM222028v1</td>\n",
       "      <td>GCF_000009085.1_ASM908v1</td>\n",
       "    </tr>\n",
       "    <tr>\n",
       "      <th>55567</th>\n",
       "      <td>GCF_002220285.1_ASM222028v1-Bacillus.fasta-lcl...</td>\n",
       "      <td>GCF_000009085.1_ASM908v1-Campylobacter.fasta-l...</td>\n",
       "      <td>76.497</td>\n",
       "      <td>lcl|NZ_CP017060.1_rrna_148</td>\n",
       "      <td>lcl|NC_002163.1_rrna_1</td>\n",
       "      <td>Bacillus</td>\n",
       "      <td>GCF_002220285.1_ASM222028v1</td>\n",
       "      <td>GCF_000009085.1_ASM908v1</td>\n",
       "    </tr>\n",
       "    <tr>\n",
       "      <th>55568</th>\n",
       "      <td>GCF_002220285.1_ASM222028v1-Bacillus.fasta-lcl...</td>\n",
       "      <td>GCF_000027325.1_ASM2732v1-Mycoplasma.fasta-lcl...</td>\n",
       "      <td>76.489</td>\n",
       "      <td>lcl|NZ_CP017060.1_rrna_148</td>\n",
       "      <td>lcl|NC_000908.2_rrna_4</td>\n",
       "      <td>Bacillus</td>\n",
       "      <td>GCF_002220285.1_ASM222028v1</td>\n",
       "      <td>GCF_000027325.1_ASM2732v1</td>\n",
       "    </tr>\n",
       "    <tr>\n",
       "      <th>55569</th>\n",
       "      <td>GCF_002220285.1_ASM222028v1-Bacillus.fasta-lcl...</td>\n",
       "      <td>GCF_000012345.1_ASM1234v1-Candidatus.fasta-lcl...</td>\n",
       "      <td>77.154</td>\n",
       "      <td>lcl|NZ_CP017060.1_rrna_148</td>\n",
       "      <td>lcl|NC_007205.1_rrna_13</td>\n",
       "      <td>Bacillus</td>\n",
       "      <td>GCF_002220285.1_ASM222028v1</td>\n",
       "      <td>GCF_000012345.1_ASM1234v1</td>\n",
       "    </tr>\n",
       "  </tbody>\n",
       "</table>\n",
       "<p>54440 rows × 8 columns</p>\n",
       "</div>"
      ],
      "text/plain": [
       "                                                query_id  \\\n",
       "0      GCF_016694755.2_ASM1669475v2-Pseudomonas.fasta...   \n",
       "1      GCF_016694755.2_ASM1669475v2-Pseudomonas.fasta...   \n",
       "2      GCF_016694755.2_ASM1669475v2-Pseudomonas.fasta...   \n",
       "3      GCF_016694755.2_ASM1669475v2-Pseudomonas.fasta...   \n",
       "4      GCF_016694755.2_ASM1669475v2-Pseudomonas.fasta...   \n",
       "...                                                  ...   \n",
       "55565  GCF_002220285.1_ASM222028v1-Bacillus.fasta-lcl...   \n",
       "55566  GCF_002220285.1_ASM222028v1-Bacillus.fasta-lcl...   \n",
       "55567  GCF_002220285.1_ASM222028v1-Bacillus.fasta-lcl...   \n",
       "55568  GCF_002220285.1_ASM222028v1-Bacillus.fasta-lcl...   \n",
       "55569  GCF_002220285.1_ASM222028v1-Bacillus.fasta-lcl...   \n",
       "\n",
       "                                              subject_id  identity  \\\n",
       "0      GCF_016694755.2_ASM1669475v2-Pseudomonas.fasta...   100.000   \n",
       "1      GCF_016694755.2_ASM1669475v2-Pseudomonas.fasta...   100.000   \n",
       "2      GCF_016694755.2_ASM1669475v2-Pseudomonas.fasta...    99.805   \n",
       "3      GCF_016694755.2_ASM1669475v2-Pseudomonas.fasta...    99.805   \n",
       "4      GCF_900215245.1_IMG-taxon_2617270901_annotated...    97.987   \n",
       "...                                                  ...       ...   \n",
       "55565  GCF_000009085.1_ASM908v1-Campylobacter.fasta-l...    76.497   \n",
       "55566  GCF_000009085.1_ASM908v1-Campylobacter.fasta-l...    76.497   \n",
       "55567  GCF_000009085.1_ASM908v1-Campylobacter.fasta-l...    76.497   \n",
       "55568  GCF_000027325.1_ASM2732v1-Mycoplasma.fasta-lcl...    76.489   \n",
       "55569  GCF_000012345.1_ASM1234v1-Candidatus.fasta-lcl...    77.154   \n",
       "\n",
       "                       gene_query              gene_subeject       classe  \\\n",
       "0        lcl|NZ_CP068034.2_rrna_5  lcl|NZ_CP068034.2_rrna_14  Pseudomonas   \n",
       "1        lcl|NZ_CP068034.2_rrna_5   lcl|NZ_CP068034.2_rrna_5  Pseudomonas   \n",
       "2        lcl|NZ_CP068034.2_rrna_5  lcl|NZ_CP068034.2_rrna_84  Pseudomonas   \n",
       "3        lcl|NZ_CP068034.2_rrna_5  lcl|NZ_CP068034.2_rrna_53  Pseudomonas   \n",
       "4        lcl|NZ_CP068034.2_rrna_5  lcl|NZ_LT907842.1_rrna_53  Pseudomonas   \n",
       "...                           ...                        ...          ...   \n",
       "55565  lcl|NZ_CP017060.1_rrna_148    lcl|NC_002163.1_rrna_23     Bacillus   \n",
       "55566  lcl|NZ_CP017060.1_rrna_148     lcl|NC_002163.1_rrna_8     Bacillus   \n",
       "55567  lcl|NZ_CP017060.1_rrna_148     lcl|NC_002163.1_rrna_1     Bacillus   \n",
       "55568  lcl|NZ_CP017060.1_rrna_148     lcl|NC_000908.2_rrna_4     Bacillus   \n",
       "55569  lcl|NZ_CP017060.1_rrna_148    lcl|NC_007205.1_rrna_13     Bacillus   \n",
       "\n",
       "                       genome_query                genome_subject  \n",
       "0      GCF_016694755.2_ASM1669475v2  GCF_016694755.2_ASM1669475v2  \n",
       "1      GCF_016694755.2_ASM1669475v2  GCF_016694755.2_ASM1669475v2  \n",
       "2      GCF_016694755.2_ASM1669475v2  GCF_016694755.2_ASM1669475v2  \n",
       "3      GCF_016694755.2_ASM1669475v2  GCF_016694755.2_ASM1669475v2  \n",
       "4      GCF_016694755.2_ASM1669475v2           GCF_900215245.1_IMG  \n",
       "...                             ...                           ...  \n",
       "55565   GCF_002220285.1_ASM222028v1      GCF_000009085.1_ASM908v1  \n",
       "55566   GCF_002220285.1_ASM222028v1      GCF_000009085.1_ASM908v1  \n",
       "55567   GCF_002220285.1_ASM222028v1      GCF_000009085.1_ASM908v1  \n",
       "55568   GCF_002220285.1_ASM222028v1     GCF_000027325.1_ASM2732v1  \n",
       "55569   GCF_002220285.1_ASM222028v1     GCF_000012345.1_ASM1234v1  \n",
       "\n",
       "[54440 rows x 8 columns]"
      ]
     },
     "execution_count": 101,
     "metadata": {},
     "output_type": "execute_result"
    }
   ],
   "source": [
    "rna16s_table"
   ]
  }
 ],
 "metadata": {
  "interpreter": {
   "hash": "399b38b49e6ab1a4889ffee7f5ee0a7e8b0aa125582fa90335082459ce8e2781"
  },
  "kernelspec": {
   "display_name": "Python 3.8.8 ('base')",
   "language": "python",
   "name": "python3"
  },
  "language_info": {
   "codemirror_mode": {
    "name": "ipython",
    "version": 3
   },
   "file_extension": ".py",
   "mimetype": "text/x-python",
   "name": "python",
   "nbconvert_exporter": "python",
   "pygments_lexer": "ipython3",
   "version": "3.8.8"
  },
  "orig_nbformat": 4
 },
 "nbformat": 4,
 "nbformat_minor": 2
}
